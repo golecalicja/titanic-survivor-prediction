{
 "cells": [
  {
   "cell_type": "markdown",
   "id": "bfb00bfb",
   "metadata": {},
   "source": [
    "## Importing necessary libraries"
   ]
  },
  {
   "cell_type": "code",
   "execution_count": 187,
   "id": "4170b394",
   "metadata": {},
   "outputs": [],
   "source": [
    "import pandas as pd\n",
    "import numpy as np\n",
    "import matplotlib.pyplot as plt\n",
    "from matplotlib import style\n",
    "import seaborn as sns"
   ]
  },
  {
   "cell_type": "markdown",
   "id": "e72669bd",
   "metadata": {},
   "source": [
    "## Setting style and color palette"
   ]
  },
  {
   "cell_type": "code",
   "execution_count": 188,
   "id": "4046d09e",
   "metadata": {},
   "outputs": [],
   "source": [
    "sns.set_style(\"darkgrid\")\n",
    "sns.set_context(\"notebook\")\n",
    "sns.set_palette(\"tab10\")"
   ]
  },
  {
   "cell_type": "markdown",
   "id": "7c3f39e1",
   "metadata": {},
   "source": [
    "## Importing Datasets"
   ]
  },
  {
   "cell_type": "code",
   "execution_count": 189,
   "id": "168f84d4",
   "metadata": {},
   "outputs": [],
   "source": [
    "df_train = pd.read_csv(\"train.csv\")\n",
    "df_test = pd.read_csv(\"test.csv\")"
   ]
  },
  {
   "cell_type": "markdown",
   "id": "68b36497",
   "metadata": {},
   "source": [
    "## Displaying data types"
   ]
  },
  {
   "cell_type": "code",
   "execution_count": 190,
   "id": "ed959c5f",
   "metadata": {},
   "outputs": [
    {
     "name": "stdout",
     "output_type": "stream",
     "text": [
      "<class 'pandas.core.frame.DataFrame'>\n",
      "RangeIndex: 891 entries, 0 to 890\n",
      "Data columns (total 12 columns):\n",
      " #   Column       Non-Null Count  Dtype  \n",
      "---  ------       --------------  -----  \n",
      " 0   PassengerId  891 non-null    int64  \n",
      " 1   Survived     891 non-null    int64  \n",
      " 2   Pclass       891 non-null    int64  \n",
      " 3   Name         891 non-null    object \n",
      " 4   Sex          891 non-null    object \n",
      " 5   Age          714 non-null    float64\n",
      " 6   SibSp        891 non-null    int64  \n",
      " 7   Parch        891 non-null    int64  \n",
      " 8   Ticket       891 non-null    object \n",
      " 9   Fare         891 non-null    float64\n",
      " 10  Cabin        204 non-null    object \n",
      " 11  Embarked     889 non-null    object \n",
      "dtypes: float64(2), int64(5), object(5)\n",
      "memory usage: 83.7+ KB\n"
     ]
    }
   ],
   "source": [
    "df_train.info()"
   ]
  },
  {
   "cell_type": "code",
   "execution_count": 191,
   "id": "e63397b5",
   "metadata": {},
   "outputs": [
    {
     "name": "stdout",
     "output_type": "stream",
     "text": [
      "<class 'pandas.core.frame.DataFrame'>\n",
      "RangeIndex: 418 entries, 0 to 417\n",
      "Data columns (total 11 columns):\n",
      " #   Column       Non-Null Count  Dtype  \n",
      "---  ------       --------------  -----  \n",
      " 0   PassengerId  418 non-null    int64  \n",
      " 1   Pclass       418 non-null    int64  \n",
      " 2   Name         418 non-null    object \n",
      " 3   Sex          418 non-null    object \n",
      " 4   Age          332 non-null    float64\n",
      " 5   SibSp        418 non-null    int64  \n",
      " 6   Parch        418 non-null    int64  \n",
      " 7   Ticket       418 non-null    object \n",
      " 8   Fare         417 non-null    float64\n",
      " 9   Cabin        91 non-null     object \n",
      " 10  Embarked     418 non-null    object \n",
      "dtypes: float64(2), int64(4), object(5)\n",
      "memory usage: 36.0+ KB\n"
     ]
    }
   ],
   "source": [
    "df_test.info()"
   ]
  },
  {
   "cell_type": "markdown",
   "id": "36ba7857",
   "metadata": {},
   "source": [
    "## Cleaning data"
   ]
  },
  {
   "cell_type": "markdown",
   "id": "bdc87b50",
   "metadata": {},
   "source": [
    "Renaming column names for easier reference"
   ]
  },
  {
   "cell_type": "code",
   "execution_count": 192,
   "id": "1229af42",
   "metadata": {},
   "outputs": [],
   "source": [
    "df_train.rename(columns={\"PassengerId\": \"id\", \"Survived\": \"survived\", \n",
    "                   \"Pclass\": \"class\", \"Name\": \"name\", \"Sex\": \"sex\", \n",
    "                   \"Age\": \"age\", \"SibSp\": \"sibling_spouse\", \"Parch\": \"parent_children\", \"Ticket\": \"ticket\", \n",
    "                   \"Fare\": \"fare\", \"Cabin\": \"cabin\", \"Embarked\": \"embarked\"}, inplace=True)\n",
    "\n",
    "df_test.rename(columns={\"PassengerId\": \"id\", \"Survived\": \"survived\", \n",
    "                   \"Pclass\": \"class\", \"Name\": \"name\", \"Sex\": \"sex\", \n",
    "                   \"Age\": \"age\", \"SibSp\": \"sibling_spouse\", \"Parch\": \"parent_children\", \"Ticket\": \"ticket\", \n",
    "                   \"Fare\": \"fare\", \"Cabin\": \"cabin\", \"Embarked\": \"embarked\"}, inplace=True)"
   ]
  },
  {
   "cell_type": "code",
   "execution_count": 193,
   "id": "e57586ef",
   "metadata": {},
   "outputs": [
    {
     "data": {
      "text/html": [
       "<div>\n",
       "<style scoped>\n",
       "    .dataframe tbody tr th:only-of-type {\n",
       "        vertical-align: middle;\n",
       "    }\n",
       "\n",
       "    .dataframe tbody tr th {\n",
       "        vertical-align: top;\n",
       "    }\n",
       "\n",
       "    .dataframe thead th {\n",
       "        text-align: right;\n",
       "    }\n",
       "</style>\n",
       "<table border=\"1\" class=\"dataframe\">\n",
       "  <thead>\n",
       "    <tr style=\"text-align: right;\">\n",
       "      <th></th>\n",
       "      <th>id</th>\n",
       "      <th>survived</th>\n",
       "      <th>class</th>\n",
       "      <th>name</th>\n",
       "      <th>sex</th>\n",
       "      <th>age</th>\n",
       "      <th>sibling_spouse</th>\n",
       "      <th>parent_children</th>\n",
       "      <th>ticket</th>\n",
       "      <th>fare</th>\n",
       "      <th>cabin</th>\n",
       "      <th>embarked</th>\n",
       "    </tr>\n",
       "  </thead>\n",
       "  <tbody>\n",
       "    <tr>\n",
       "      <th>0</th>\n",
       "      <td>1</td>\n",
       "      <td>0</td>\n",
       "      <td>3</td>\n",
       "      <td>Braund, Mr. Owen Harris</td>\n",
       "      <td>male</td>\n",
       "      <td>22.0</td>\n",
       "      <td>1</td>\n",
       "      <td>0</td>\n",
       "      <td>A/5 21171</td>\n",
       "      <td>7.2500</td>\n",
       "      <td>NaN</td>\n",
       "      <td>S</td>\n",
       "    </tr>\n",
       "    <tr>\n",
       "      <th>1</th>\n",
       "      <td>2</td>\n",
       "      <td>1</td>\n",
       "      <td>1</td>\n",
       "      <td>Cumings, Mrs. John Bradley (Florence Briggs Th...</td>\n",
       "      <td>female</td>\n",
       "      <td>38.0</td>\n",
       "      <td>1</td>\n",
       "      <td>0</td>\n",
       "      <td>PC 17599</td>\n",
       "      <td>71.2833</td>\n",
       "      <td>C85</td>\n",
       "      <td>C</td>\n",
       "    </tr>\n",
       "    <tr>\n",
       "      <th>2</th>\n",
       "      <td>3</td>\n",
       "      <td>1</td>\n",
       "      <td>3</td>\n",
       "      <td>Heikkinen, Miss. Laina</td>\n",
       "      <td>female</td>\n",
       "      <td>26.0</td>\n",
       "      <td>0</td>\n",
       "      <td>0</td>\n",
       "      <td>STON/O2. 3101282</td>\n",
       "      <td>7.9250</td>\n",
       "      <td>NaN</td>\n",
       "      <td>S</td>\n",
       "    </tr>\n",
       "    <tr>\n",
       "      <th>3</th>\n",
       "      <td>4</td>\n",
       "      <td>1</td>\n",
       "      <td>1</td>\n",
       "      <td>Futrelle, Mrs. Jacques Heath (Lily May Peel)</td>\n",
       "      <td>female</td>\n",
       "      <td>35.0</td>\n",
       "      <td>1</td>\n",
       "      <td>0</td>\n",
       "      <td>113803</td>\n",
       "      <td>53.1000</td>\n",
       "      <td>C123</td>\n",
       "      <td>S</td>\n",
       "    </tr>\n",
       "    <tr>\n",
       "      <th>4</th>\n",
       "      <td>5</td>\n",
       "      <td>0</td>\n",
       "      <td>3</td>\n",
       "      <td>Allen, Mr. William Henry</td>\n",
       "      <td>male</td>\n",
       "      <td>35.0</td>\n",
       "      <td>0</td>\n",
       "      <td>0</td>\n",
       "      <td>373450</td>\n",
       "      <td>8.0500</td>\n",
       "      <td>NaN</td>\n",
       "      <td>S</td>\n",
       "    </tr>\n",
       "    <tr>\n",
       "      <th>5</th>\n",
       "      <td>6</td>\n",
       "      <td>0</td>\n",
       "      <td>3</td>\n",
       "      <td>Moran, Mr. James</td>\n",
       "      <td>male</td>\n",
       "      <td>NaN</td>\n",
       "      <td>0</td>\n",
       "      <td>0</td>\n",
       "      <td>330877</td>\n",
       "      <td>8.4583</td>\n",
       "      <td>NaN</td>\n",
       "      <td>Q</td>\n",
       "    </tr>\n",
       "    <tr>\n",
       "      <th>6</th>\n",
       "      <td>7</td>\n",
       "      <td>0</td>\n",
       "      <td>1</td>\n",
       "      <td>McCarthy, Mr. Timothy J</td>\n",
       "      <td>male</td>\n",
       "      <td>54.0</td>\n",
       "      <td>0</td>\n",
       "      <td>0</td>\n",
       "      <td>17463</td>\n",
       "      <td>51.8625</td>\n",
       "      <td>E46</td>\n",
       "      <td>S</td>\n",
       "    </tr>\n",
       "    <tr>\n",
       "      <th>7</th>\n",
       "      <td>8</td>\n",
       "      <td>0</td>\n",
       "      <td>3</td>\n",
       "      <td>Palsson, Master. Gosta Leonard</td>\n",
       "      <td>male</td>\n",
       "      <td>2.0</td>\n",
       "      <td>3</td>\n",
       "      <td>1</td>\n",
       "      <td>349909</td>\n",
       "      <td>21.0750</td>\n",
       "      <td>NaN</td>\n",
       "      <td>S</td>\n",
       "    </tr>\n",
       "    <tr>\n",
       "      <th>8</th>\n",
       "      <td>9</td>\n",
       "      <td>1</td>\n",
       "      <td>3</td>\n",
       "      <td>Johnson, Mrs. Oscar W (Elisabeth Vilhelmina Berg)</td>\n",
       "      <td>female</td>\n",
       "      <td>27.0</td>\n",
       "      <td>0</td>\n",
       "      <td>2</td>\n",
       "      <td>347742</td>\n",
       "      <td>11.1333</td>\n",
       "      <td>NaN</td>\n",
       "      <td>S</td>\n",
       "    </tr>\n",
       "    <tr>\n",
       "      <th>9</th>\n",
       "      <td>10</td>\n",
       "      <td>1</td>\n",
       "      <td>2</td>\n",
       "      <td>Nasser, Mrs. Nicholas (Adele Achem)</td>\n",
       "      <td>female</td>\n",
       "      <td>14.0</td>\n",
       "      <td>1</td>\n",
       "      <td>0</td>\n",
       "      <td>237736</td>\n",
       "      <td>30.0708</td>\n",
       "      <td>NaN</td>\n",
       "      <td>C</td>\n",
       "    </tr>\n",
       "  </tbody>\n",
       "</table>\n",
       "</div>"
      ],
      "text/plain": [
       "   id  survived  class                                               name  \\\n",
       "0   1         0      3                            Braund, Mr. Owen Harris   \n",
       "1   2         1      1  Cumings, Mrs. John Bradley (Florence Briggs Th...   \n",
       "2   3         1      3                             Heikkinen, Miss. Laina   \n",
       "3   4         1      1       Futrelle, Mrs. Jacques Heath (Lily May Peel)   \n",
       "4   5         0      3                           Allen, Mr. William Henry   \n",
       "5   6         0      3                                   Moran, Mr. James   \n",
       "6   7         0      1                            McCarthy, Mr. Timothy J   \n",
       "7   8         0      3                     Palsson, Master. Gosta Leonard   \n",
       "8   9         1      3  Johnson, Mrs. Oscar W (Elisabeth Vilhelmina Berg)   \n",
       "9  10         1      2                Nasser, Mrs. Nicholas (Adele Achem)   \n",
       "\n",
       "      sex   age  sibling_spouse  parent_children            ticket     fare  \\\n",
       "0    male  22.0               1                0         A/5 21171   7.2500   \n",
       "1  female  38.0               1                0          PC 17599  71.2833   \n",
       "2  female  26.0               0                0  STON/O2. 3101282   7.9250   \n",
       "3  female  35.0               1                0            113803  53.1000   \n",
       "4    male  35.0               0                0            373450   8.0500   \n",
       "5    male   NaN               0                0            330877   8.4583   \n",
       "6    male  54.0               0                0             17463  51.8625   \n",
       "7    male   2.0               3                1            349909  21.0750   \n",
       "8  female  27.0               0                2            347742  11.1333   \n",
       "9  female  14.0               1                0            237736  30.0708   \n",
       "\n",
       "  cabin embarked  \n",
       "0   NaN        S  \n",
       "1   C85        C  \n",
       "2   NaN        S  \n",
       "3  C123        S  \n",
       "4   NaN        S  \n",
       "5   NaN        Q  \n",
       "6   E46        S  \n",
       "7   NaN        S  \n",
       "8   NaN        S  \n",
       "9   NaN        C  "
      ]
     },
     "execution_count": 193,
     "metadata": {},
     "output_type": "execute_result"
    }
   ],
   "source": [
    "df_train.head(10)"
   ]
  },
  {
   "cell_type": "markdown",
   "id": "b44bee74",
   "metadata": {},
   "source": [
    "Checking for missing values"
   ]
  },
  {
   "cell_type": "code",
   "execution_count": 194,
   "id": "4464a1b5",
   "metadata": {},
   "outputs": [
    {
     "data": {
      "text/plain": [
       "id                   0\n",
       "survived             0\n",
       "class                0\n",
       "name                 0\n",
       "sex                  0\n",
       "age                177\n",
       "sibling_spouse       0\n",
       "parent_children      0\n",
       "ticket               0\n",
       "fare                 0\n",
       "cabin              687\n",
       "embarked             2\n",
       "dtype: int64"
      ]
     },
     "execution_count": 194,
     "metadata": {},
     "output_type": "execute_result"
    }
   ],
   "source": [
    "df_train.isnull().sum()"
   ]
  },
  {
   "cell_type": "code",
   "execution_count": 195,
   "id": "d5b70d69",
   "metadata": {},
   "outputs": [
    {
     "data": {
      "text/plain": [
       "Text(0.5, 1.0, 'Missing values distribution')"
      ]
     },
     "execution_count": 195,
     "metadata": {},
     "output_type": "execute_result"
    },
    {
     "data": {
      "image/png": "[encoded data removed]",
      "text/plain": [
       "<Figure size 432x288 with 1 Axes>"
      ]
     },
     "metadata": {},
     "output_type": "display_data"
    }
   ],
   "source": [
    "df_train.isnull().sum().plot(kind=\"bar\")\n",
    "plt.title(\"Missing values distribution\")"
   ]
  },
  {
   "cell_type": "markdown",
   "id": "9ee067eb",
   "metadata": {},
   "source": [
    "Found missing values in columns: Age, Cabin, Embarked. "
   ]
  },
  {
   "cell_type": "code",
   "execution_count": 196,
   "id": "5456dbc9",
   "metadata": {},
   "outputs": [
    {
     "data": {
      "text/plain": [
       "Text(0.5, 1.0, 'Age distribution')"
      ]
     },
     "execution_count": 196,
     "metadata": {},
     "output_type": "execute_result"
    },
    {
     "data": {
      "image/png": "[encoded data removed]",
      "text/plain": [
       "<Figure size 432x288 with 1 Axes>"
      ]
     },
     "metadata": {},
     "output_type": "display_data"
    }
   ],
   "source": [
    "sns.boxplot(x=df_train[\"age\"])\n",
    "plt.title(\"Age distribution\")"
   ]
  },
  {
   "cell_type": "code",
   "execution_count": 197,
   "id": "d4ab37df",
   "metadata": {},
   "outputs": [
    {
     "data": {
      "text/plain": [
       "array(['S', 'C', 'Q', nan], dtype=object)"
      ]
     },
     "execution_count": 197,
     "metadata": {},
     "output_type": "execute_result"
    }
   ],
   "source": [
    "df_train[\"embarked\"].unique()"
   ]
  },
  {
   "cell_type": "code",
   "execution_count": 198,
   "id": "867591b7",
   "metadata": {},
   "outputs": [
    {
     "data": {
      "text/plain": [
       "[Text(0, 0, 'S'), Text(1, 0, 'C'), Text(2, 0, 'Q')]"
      ]
     },
     "execution_count": 198,
     "metadata": {},
     "output_type": "execute_result"
    },
    {
     "data": {
      "image/png": "[encoded data removed]",
      "text/plain": [
       "<Figure size 432x288 with 1 Axes>"
      ]
     },
     "metadata": {},
     "output_type": "display_data"
    }
   ],
   "source": [
    "ax = df_train[\"embarked\"].value_counts().plot(kind=\"bar\")\n",
    "plt.title(\"Embarked distribution\")\n",
    "ax.set_xticklabels([\"S\", \"C\", \"Q\"], rotation = 0)"
   ]
  },
  {
   "cell_type": "markdown",
   "id": "22c3992a",
   "metadata": {},
   "source": [
    "Replacing missing values with median (age) and mode (embarked)"
   ]
  },
  {
   "cell_type": "code",
   "execution_count": 199,
   "id": "ffff72f3",
   "metadata": {},
   "outputs": [],
   "source": [
    "age_median = df_train[\"age\"].median()\n",
    "df_train[\"age\"] = df_train[\"age\"].fillna(age_median)\n",
    "\n",
    "df_train[\"embarked\"] = df_train[\"embarked\"].fillna(\"S\")"
   ]
  },
  {
   "cell_type": "markdown",
   "id": "2c766cbf",
   "metadata": {},
   "source": [
    "Doing the same for test set"
   ]
  },
  {
   "cell_type": "code",
   "execution_count": 200,
   "id": "2b466836",
   "metadata": {},
   "outputs": [],
   "source": [
    "df_test[\"age\"] = df_test[\"age\"].fillna(age_median)\n",
    "df_test[\"embarked\"] = df_test[\"embarked\"].fillna(\"S\")"
   ]
  },
  {
   "cell_type": "markdown",
   "id": "2f8450e7",
   "metadata": {},
   "source": [
    "## Feature engineering"
   ]
  },
  {
   "cell_type": "markdown",
   "id": "a7d769ec",
   "metadata": {},
   "source": [
    "Dropping unnecessary columns: PassengerId, Name, Ticket, Cabin"
   ]
  },
  {
   "cell_type": "code",
   "execution_count": 201,
   "id": "69c7b6c3",
   "metadata": {},
   "outputs": [],
   "source": [
    "df_train = df_train.drop(columns=[\"id\", \"name\", \"ticket\", \"cabin\"])\n",
    "df_test = df_test.drop(columns=[\"id\", \"name\", \"ticket\", \"cabin\"])"
   ]
  },
  {
   "cell_type": "markdown",
   "id": "3349ccc2",
   "metadata": {},
   "source": [
    "### 1. Class"
   ]
  },
  {
   "cell_type": "code",
   "execution_count": 202,
   "id": "3a95a048",
   "metadata": {},
   "outputs": [
    {
     "data": {
      "text/plain": [
       "array([3, 1, 2], dtype=int64)"
      ]
     },
     "execution_count": 202,
     "metadata": {},
     "output_type": "execute_result"
    }
   ],
   "source": [
    "df_train[\"class\"].unique()"
   ]
  },
  {
   "cell_type": "code",
   "execution_count": 217,
   "id": "03ddbb24",
   "metadata": {},
   "outputs": [
    {
     "data": {
      "text/plain": [
       "[Text(0, 0, '3rd'), Text(1, 0, '2nd'), Text(2, 0, '1st')]"
      ]
     },
     "execution_count": 217,
     "metadata": {},
     "output_type": "execute_result"
    },
    {
     "data": {
      "image/png": "[encoded data removed]",
      "text/plain": [
       "<Figure size 432x288 with 1 Axes>"
      ]
     },
     "metadata": {},
     "output_type": "display_data"
    }
   ],
   "source": [
    "ax = df_train[\"class\"].value_counts().plot(kind=\"bar\")\n",
    "plt.title(\"Class distribution\")\n",
    "ax.set_xticklabels([\"3rd\", \"2nd\", \"1st\"], rotation = 0)"
   ]
  },
  {
   "cell_type": "markdown",
   "id": "629495d7",
   "metadata": {},
   "source": [
    "Showing graph of survival distribution within classes:"
   ]
  },
  {
   "cell_type": "code",
   "execution_count": 216,
   "id": "3a348943",
   "metadata": {},
   "outputs": [
    {
     "data": {
      "text/plain": [
       "<matplotlib.legend.Legend at 0x2239bf12670>"
      ]
     },
     "execution_count": 216,
     "metadata": {},
     "output_type": "execute_result"
    },
    {
     "data": {
      "image/png": "[encoded data removed]",
      "text/plain": [
       "<Figure size 432x288 with 1 Axes>"
      ]
     },
     "metadata": {},
     "output_type": "display_data"
    }
   ],
   "source": [
    "ax = sns.countplot(x=df_train[\"class\"], hue=df_train[\"survived\"])\n",
    "plt.title(\"Survival distribution within classes\")\n",
    "ax.set_xticklabels([\"3rd\", \"2nd\", \"1st\"], rotation = 0)\n",
    "plt.legend(labels=['survived', 'died'])"
   ]
  },
  {
   "cell_type": "markdown",
   "id": "ed2a8d9f",
   "metadata": {},
   "source": [
    "Counting percentage of passengers in each class who survived:"
   ]
  },
  {
   "cell_type": "code",
   "execution_count": 205,
   "id": "4e3358ed",
   "metadata": {},
   "outputs": [
    {
     "data": {
      "text/plain": [
       "class  survived\n",
       "1      0           0.370370\n",
       "       1           0.629630\n",
       "2      0           0.527174\n",
       "       1           0.472826\n",
       "3      0           0.757637\n",
       "       1           0.242363\n",
       "Name: survived, dtype: float64"
      ]
     },
     "execution_count": 205,
     "metadata": {},
     "output_type": "execute_result"
    }
   ],
   "source": [
    "df_train.groupby(\"class\").survived.value_counts(normalize=True).sort_index()"
   ]
  },
  {
   "cell_type": "markdown",
   "id": "d678eda5",
   "metadata": {},
   "source": [
    "The above graph and table show that 1st class passengers had the highest chance of survival (62.96%), whereas 3rd class passengers the lowest (24,23%)."
   ]
  },
  {
   "cell_type": "markdown",
   "id": "89fd6d98",
   "metadata": {},
   "source": [
    "### 2. Sex"
   ]
  },
  {
   "cell_type": "code",
   "execution_count": 206,
   "id": "15d216f0",
   "metadata": {},
   "outputs": [
    {
     "data": {
      "text/plain": [
       "array(['male', 'female'], dtype=object)"
      ]
     },
     "execution_count": 206,
     "metadata": {},
     "output_type": "execute_result"
    }
   ],
   "source": [
    "df_train[\"sex\"].unique()"
   ]
  },
  {
   "cell_type": "code",
   "execution_count": 218,
   "id": "99706e21",
   "metadata": {},
   "outputs": [
    {
     "data": {
      "text/plain": [
       "<AxesSubplot:title={'center':'Sex distribution'}, ylabel='sex'>"
      ]
     },
     "execution_count": 218,
     "metadata": {},
     "output_type": "execute_result"
    },
    {
     "data": {
      "image/png": "[encoded data removed]",
      "text/plain": [
       "<Figure size 432x288 with 1 Axes>"
      ]
     },
     "metadata": {},
     "output_type": "display_data"
    }
   ],
   "source": [
    "plt.title(\"Sex distribution\")\n",
    "df_train[\"sex\"].value_counts().plot(kind=\"pie\")"
   ]
  },
  {
   "cell_type": "markdown",
   "id": "8680f87b",
   "metadata": {},
   "source": [
    "Showing graph of survival distribution for each sex:"
   ]
  },
  {
   "cell_type": "code",
   "execution_count": 208,
   "id": "da6cdd1b",
   "metadata": {},
   "outputs": [
    {
     "data": {
      "text/plain": [
       "<matplotlib.legend.Legend at 0x223c1e7b670>"
      ]
     },
     "execution_count": 208,
     "metadata": {},
     "output_type": "execute_result"
    },
    {
     "data": {
      "image/png": "[encoded data removed]",
      "text/plain": [
       "<Figure size 432x288 with 1 Axes>"
      ]
     },
     "metadata": {},
     "output_type": "display_data"
    }
   ],
   "source": [
    "sns.countplot(x=df_train[\"sex\"], hue=df_train[\"survived\"])\n",
    "plt.title(\"Survival distribution by sex\")\n",
    "plt.legend(labels=['survived', 'died'])"
   ]
  },
  {
   "cell_type": "markdown",
   "id": "ba03d334",
   "metadata": {},
   "source": [
    "And the percentage..."
   ]
  },
  {
   "cell_type": "code",
   "execution_count": 209,
   "id": "aeb67625",
   "metadata": {},
   "outputs": [
    {
     "data": {
      "text/plain": [
       "sex     survived\n",
       "female  0           0.257962\n",
       "        1           0.742038\n",
       "male    0           0.811092\n",
       "        1           0.188908\n",
       "Name: survived, dtype: float64"
      ]
     },
     "execution_count": 209,
     "metadata": {},
     "output_type": "execute_result"
    }
   ],
   "source": [
    "df_train.groupby(\"sex\").survived.value_counts(normalize=True).sort_index()"
   ]
  },
  {
   "cell_type": "markdown",
   "id": "86bcb4d9",
   "metadata": {},
   "source": [
    "We can see that generally women had higher chance of survival (74.20%) than men (18.89%)."
   ]
  },
  {
   "cell_type": "code",
   "execution_count": 210,
   "id": "8868f8e9",
   "metadata": {
    "scrolled": true
   },
   "outputs": [
    {
     "data": {
      "text/plain": [
       "Text(0.5, 1.0, 'Survival ratio by passenger class and sex')"
      ]
     },
     "execution_count": 210,
     "metadata": {},
     "output_type": "execute_result"
    },
    {
     "data": {
      "image/png": "[encoded data removed]",
      "text/plain": [
       "<Figure size 432x288 with 2 Axes>"
      ]
     },
     "metadata": {},
     "output_type": "display_data"
    }
   ],
   "source": [
    "sns.heatmap(df_train.pivot_table(index=\"class\", columns=\"sex\", values=\"survived\"), annot=True)\n",
    "plt.title(\"Survival ratio by passenger class and sex\")"
   ]
  },
  {
   "cell_type": "markdown",
   "id": "b1547dc2",
   "metadata": {},
   "source": [
    "From the heatmap we conclude that women in the 1st class had the highest chance of survival (97%), whereas men in the 3rd class had the lowest chance of survival (14%). Note that women in each class had higher survival ratio. Even women from 3rd class had greater chance of surviving the catastrophe than men from 1st class."
   ]
  },
  {
   "cell_type": "code",
   "execution_count": 265,
   "id": "561a272c",
   "metadata": {
    "scrolled": true
   },
   "outputs": [
    {
     "data": {
      "text/plain": [
       "<matplotlib.legend.Legend at 0x223d0818310>"
      ]
     },
     "execution_count": 265,
     "metadata": {},
     "output_type": "execute_result"
    },
    {
     "data": {
      "image/png": "[encoded data removed]",
      "text/plain": [
       "<Figure size 1296x288 with 3 Axes>"
      ]
     },
     "metadata": {},
     "output_type": "display_data"
    }
   ],
   "source": [
    "fig=plt.figure(figsize=(18,4))\n",
    "\n",
    "ax1=fig.add_subplot(141)\n",
    "female_1st_class = df_train[\"survived\"][df_train[\"sex\"] == 'female'][df_train[\"class\"] == 1].value_counts()\n",
    "female_1st_class.plot(kind='bar', label='female, 1st class')\n",
    "ax1.set_xticklabels([\"Survived\", \"Died\"], rotation=0)\n",
    "ax1.set_xlim(-1, len(female_1st_class))\n",
    "plt.legend(loc='best')\n",
    "\n",
    "ax2=fig.add_subplot(142, sharey=ax1)\n",
    "female_2nd_class = df_train[\"survived\"][df_train[\"sex\"] == 'female'][df_train[\"class\"] == 2].value_counts()\n",
    "female_2nd_class.plot(kind='bar', label='female, 2nd class')\n",
    "# ax2.set_xticklabels([\"Survived\",\"Died\"], rotation=0)\n",
    "ax2.set_xlim(-1, len(female_2nd_class))\n",
    "plt.legend(loc='best')\n",
    "\n",
    "ax3=fig.add_subplot(143, sharey=ax1)\n",
    "female_3rd_class = df_train[\"survived\"][df_train[\"sex\"] == 'female'][df_train[\"class\"] == 3].value_counts()\n",
    "female_3rd_class.plot(kind='bar', label='female, 3rd class')\n",
    "# ax3.set_xticklabels([\"Died\",\"Survived\"], rotation=0)\n",
    "ax3.set_xlim(-1, len(female_3rd_class))\n",
    "plt.legend(loc='best')"
   ]
  },
  {
   "cell_type": "code",
   "execution_count": 263,
   "id": "4da51e7c",
   "metadata": {},
   "outputs": [
    {
     "data": {
      "text/plain": [
       "<matplotlib.legend.Legend at 0x223d1381790>"
      ]
     },
     "execution_count": 263,
     "metadata": {},
     "output_type": "execute_result"
    },
    {
     "data": {
      "image/png": "[encoded data removed]",
      "text/plain": [
       "<Figure size 1296x288 with 3 Axes>"
      ]
     },
     "metadata": {},
     "output_type": "display_data"
    }
   ],
   "source": [
    "fig=plt.figure(figsize=(18,4))\n",
    "\n",
    "ax1=fig.add_subplot(141)\n",
    "male_1st_class = df_train[\"survived\"][df_train[\"sex\"] == 'male'][df_train[\"class\"] == 1].value_counts()\n",
    "male_1st_class.plot(kind='bar', label='male, 1st class')\n",
    "ax1.set_xticklabels([\"Died\", \"Survived\"], rotation=0)\n",
    "ax1.set_xlim(-1, len(male_1st_class))\n",
    "plt.legend(loc='best')\n",
    "\n",
    "ax2=fig.add_subplot(142, sharey=ax1)\n",
    "male_2nd_class = df_train[\"survived\"][df_train[\"sex\"] == 'male'][df_train[\"class\"] == 2].value_counts()\n",
    "male_2nd_class.plot(kind='bar', label='male, 2nd class')\n",
    "ax2.set_xticklabels([\"Died\",\"Survived\"], rotation=0)\n",
    "ax2.set_xlim(-1, len(male_2nd_class))\n",
    "plt.legend(loc='best')\n",
    "\n",
    "ax3=fig.add_subplot(143, sharey=ax1)\n",
    "male_3rd_class = df_train[\"survived\"][df_train[\"sex\"] == 'male'][df_train[\"class\"] == 3].value_counts()\n",
    "male_3rd_class.plot(kind='bar', label='male, 3rd class')\n",
    "ax3.set_xticklabels([\"Died\",\"Survived\"], rotation=0)\n",
    "ax3.set_xlim(-1, len(male_3rd_class))\n",
    "plt.legend(loc='best')"
   ]
  },
  {
   "cell_type": "markdown",
   "id": "8c4cf365",
   "metadata": {},
   "source": [
    "### 3. Age"
   ]
  },
  {
   "cell_type": "code",
   "execution_count": 226,
   "id": "f28ece21",
   "metadata": {},
   "outputs": [
    {
     "data": {
      "text/plain": [
       "<AxesSubplot:title={'center':'Age distribution'}, ylabel='Frequency'>"
      ]
     },
     "execution_count": 226,
     "metadata": {},
     "output_type": "execute_result"
    },
    {
     "data": {
      "image/png": "[encoded data removed]",
      "text/plain": [
       "<Figure size 432x288 with 1 Axes>"
      ]
     },
     "metadata": {},
     "output_type": "display_data"
    }
   ],
   "source": [
    "plt.title(\"Age distribution\")\n",
    "df_train[\"age\"].plot(kind=\"hist\")"
   ]
  },
  {
   "cell_type": "code",
   "execution_count": 213,
   "id": "8484f7db",
   "metadata": {},
   "outputs": [
    {
     "data": {
      "text/plain": [
       "<matplotlib.legend.Legend at 0x223bffcf580>"
      ]
     },
     "execution_count": 213,
     "metadata": {},
     "output_type": "execute_result"
    },
    {
     "data": {
      "image/png": "[encoded data removed]",
      "text/plain": [
       "<Figure size 432x288 with 1 Axes>"
      ]
     },
     "metadata": {},
     "output_type": "display_data"
    }
   ],
   "source": [
    "plt.subplot2grid((2,3),(1,0), colspan=5)\n",
    "df_train[\"age\"][df_train[\"class\"] == 1].plot(kind='kde')    \n",
    "df_train[\"age\"][df_train[\"class\"] == 2].plot(kind='kde')\n",
    "df_train[\"age\"][df_train[\"class\"] == 3].plot(kind='kde')\n",
    "plt.xlabel(\"Age\")    \n",
    "plt.title(\"Age Distribution within classes\")\n",
    "plt.legend(('1st class', '2nd class','3rd class')) "
   ]
  },
  {
   "cell_type": "code",
   "execution_count": 214,
   "id": "2f8fea8b",
   "metadata": {},
   "outputs": [
    {
     "data": {
      "text/plain": [
       "<matplotlib.legend.Legend at 0x223c0035910>"
      ]
     },
     "execution_count": 214,
     "metadata": {},
     "output_type": "execute_result"
    },
    {
     "data": {
      "image/png": "[encoded data removed]",
      "text/plain": [
       "<Figure size 432x288 with 1 Axes>"
      ]
     },
     "metadata": {},
     "output_type": "display_data"
    }
   ],
   "source": [
    "plt.subplot2grid((2,3),(1,0), colspan=5)\n",
    "df_train[\"age\"][df_train[\"survived\"] == 0].plot(kind='kde')    \n",
    "df_train[\"age\"][df_train[\"survived\"] == 1].plot(kind='kde')\n",
    "plt.xlabel(\"Age\")    \n",
    "plt.title(\"Survival by age\")\n",
    "plt.legend((\"Survived\", \"Died\")) "
   ]
  },
  {
   "cell_type": "code",
   "execution_count": 215,
   "id": "cdb47178",
   "metadata": {},
   "outputs": [
    {
     "ename": "KeyError",
     "evalue": "'survived'",
     "output_type": "error",
     "traceback": [
      "\u001B[1;31m---------------------------------------------------------------------------\u001B[0m",
      "\u001B[1;31mKeyError\u001B[0m                                  Traceback (most recent call last)",
      "\u001B[1;32m~\\anaconda3\\lib\\site-packages\\pandas\\core\\indexes\\base.py\u001B[0m in \u001B[0;36mget_loc\u001B[1;34m(self, key, method, tolerance)\u001B[0m\n\u001B[0;32m   3079\u001B[0m             \u001B[1;32mtry\u001B[0m\u001B[1;33m:\u001B[0m\u001B[1;33m\u001B[0m\u001B[1;33m\u001B[0m\u001B[0m\n\u001B[1;32m-> 3080\u001B[1;33m                 \u001B[1;32mreturn\u001B[0m \u001B[0mself\u001B[0m\u001B[1;33m.\u001B[0m\u001B[0m_engine\u001B[0m\u001B[1;33m.\u001B[0m\u001B[0mget_loc\u001B[0m\u001B[1;33m(\u001B[0m\u001B[0mcasted_key\u001B[0m\u001B[1;33m)\u001B[0m\u001B[1;33m\u001B[0m\u001B[1;33m\u001B[0m\u001B[0m\n\u001B[0m\u001B[0;32m   3081\u001B[0m             \u001B[1;32mexcept\u001B[0m \u001B[0mKeyError\u001B[0m \u001B[1;32mas\u001B[0m \u001B[0merr\u001B[0m\u001B[1;33m:\u001B[0m\u001B[1;33m\u001B[0m\u001B[1;33m\u001B[0m\u001B[0m\n",
      "\u001B[1;32mpandas\\_libs\\index.pyx\u001B[0m in \u001B[0;36mpandas._libs.index.IndexEngine.get_loc\u001B[1;34m()\u001B[0m\n",
      "\u001B[1;32mpandas\\_libs\\index.pyx\u001B[0m in \u001B[0;36mpandas._libs.index.IndexEngine.get_loc\u001B[1;34m()\u001B[0m\n",
      "\u001B[1;32mpandas\\_libs\\hashtable_class_helper.pxi\u001B[0m in \u001B[0;36mpandas._libs.hashtable.PyObjectHashTable.get_item\u001B[1;34m()\u001B[0m\n",
      "\u001B[1;32mpandas\\_libs\\hashtable_class_helper.pxi\u001B[0m in \u001B[0;36mpandas._libs.hashtable.PyObjectHashTable.get_item\u001B[1;34m()\u001B[0m\n",
      "\u001B[1;31mKeyError\u001B[0m: 'survived'",
      "\nThe above exception was the direct cause of the following exception:\n",
      "\u001B[1;31mKeyError\u001B[0m                                  Traceback (most recent call last)",
      "\u001B[1;32m<ipython-input-215-c54df94b5b0b>\u001B[0m in \u001B[0;36m<module>\u001B[1;34m\u001B[0m\n\u001B[0;32m     13\u001B[0m \u001B[1;33m\u001B[0m\u001B[0m\n\u001B[0;32m     14\u001B[0m \u001B[0mx_test\u001B[0m \u001B[1;33m=\u001B[0m \u001B[0mdf_test\u001B[0m\u001B[1;33m.\u001B[0m\u001B[0miloc\u001B[0m\u001B[1;33m[\u001B[0m\u001B[1;33m:\u001B[0m\u001B[1;33m,\u001B[0m \u001B[1;36m2\u001B[0m\u001B[1;33m:\u001B[0m\u001B[1;33m]\u001B[0m\u001B[1;33m\u001B[0m\u001B[1;33m\u001B[0m\u001B[0m\n\u001B[1;32m---> 15\u001B[1;33m \u001B[0my_test\u001B[0m \u001B[1;33m=\u001B[0m \u001B[0mdf_test\u001B[0m\u001B[1;33m[\u001B[0m\u001B[1;34m\"survived\"\u001B[0m\u001B[1;33m]\u001B[0m\u001B[1;33m\u001B[0m\u001B[1;33m\u001B[0m\u001B[0m\n\u001B[0m",
      "\u001B[1;32m~\\anaconda3\\lib\\site-packages\\pandas\\core\\frame.py\u001B[0m in \u001B[0;36m__getitem__\u001B[1;34m(self, key)\u001B[0m\n\u001B[0;32m   3022\u001B[0m             \u001B[1;32mif\u001B[0m \u001B[0mself\u001B[0m\u001B[1;33m.\u001B[0m\u001B[0mcolumns\u001B[0m\u001B[1;33m.\u001B[0m\u001B[0mnlevels\u001B[0m \u001B[1;33m>\u001B[0m \u001B[1;36m1\u001B[0m\u001B[1;33m:\u001B[0m\u001B[1;33m\u001B[0m\u001B[1;33m\u001B[0m\u001B[0m\n\u001B[0;32m   3023\u001B[0m                 \u001B[1;32mreturn\u001B[0m \u001B[0mself\u001B[0m\u001B[1;33m.\u001B[0m\u001B[0m_getitem_multilevel\u001B[0m\u001B[1;33m(\u001B[0m\u001B[0mkey\u001B[0m\u001B[1;33m)\u001B[0m\u001B[1;33m\u001B[0m\u001B[1;33m\u001B[0m\u001B[0m\n\u001B[1;32m-> 3024\u001B[1;33m             \u001B[0mindexer\u001B[0m \u001B[1;33m=\u001B[0m \u001B[0mself\u001B[0m\u001B[1;33m.\u001B[0m\u001B[0mcolumns\u001B[0m\u001B[1;33m.\u001B[0m\u001B[0mget_loc\u001B[0m\u001B[1;33m(\u001B[0m\u001B[0mkey\u001B[0m\u001B[1;33m)\u001B[0m\u001B[1;33m\u001B[0m\u001B[1;33m\u001B[0m\u001B[0m\n\u001B[0m\u001B[0;32m   3025\u001B[0m             \u001B[1;32mif\u001B[0m \u001B[0mis_integer\u001B[0m\u001B[1;33m(\u001B[0m\u001B[0mindexer\u001B[0m\u001B[1;33m)\u001B[0m\u001B[1;33m:\u001B[0m\u001B[1;33m\u001B[0m\u001B[1;33m\u001B[0m\u001B[0m\n\u001B[0;32m   3026\u001B[0m                 \u001B[0mindexer\u001B[0m \u001B[1;33m=\u001B[0m \u001B[1;33m[\u001B[0m\u001B[0mindexer\u001B[0m\u001B[1;33m]\u001B[0m\u001B[1;33m\u001B[0m\u001B[1;33m\u001B[0m\u001B[0m\n",
      "\u001B[1;32m~\\anaconda3\\lib\\site-packages\\pandas\\core\\indexes\\base.py\u001B[0m in \u001B[0;36mget_loc\u001B[1;34m(self, key, method, tolerance)\u001B[0m\n\u001B[0;32m   3080\u001B[0m                 \u001B[1;32mreturn\u001B[0m \u001B[0mself\u001B[0m\u001B[1;33m.\u001B[0m\u001B[0m_engine\u001B[0m\u001B[1;33m.\u001B[0m\u001B[0mget_loc\u001B[0m\u001B[1;33m(\u001B[0m\u001B[0mcasted_key\u001B[0m\u001B[1;33m)\u001B[0m\u001B[1;33m\u001B[0m\u001B[1;33m\u001B[0m\u001B[0m\n\u001B[0;32m   3081\u001B[0m             \u001B[1;32mexcept\u001B[0m \u001B[0mKeyError\u001B[0m \u001B[1;32mas\u001B[0m \u001B[0merr\u001B[0m\u001B[1;33m:\u001B[0m\u001B[1;33m\u001B[0m\u001B[1;33m\u001B[0m\u001B[0m\n\u001B[1;32m-> 3082\u001B[1;33m                 \u001B[1;32mraise\u001B[0m \u001B[0mKeyError\u001B[0m\u001B[1;33m(\u001B[0m\u001B[0mkey\u001B[0m\u001B[1;33m)\u001B[0m \u001B[1;32mfrom\u001B[0m \u001B[0merr\u001B[0m\u001B[1;33m\u001B[0m\u001B[1;33m\u001B[0m\u001B[0m\n\u001B[0m\u001B[0;32m   3083\u001B[0m \u001B[1;33m\u001B[0m\u001B[0m\n\u001B[0;32m   3084\u001B[0m         \u001B[1;32mif\u001B[0m \u001B[0mtolerance\u001B[0m \u001B[1;32mis\u001B[0m \u001B[1;32mnot\u001B[0m \u001B[1;32mNone\u001B[0m\u001B[1;33m:\u001B[0m\u001B[1;33m\u001B[0m\u001B[1;33m\u001B[0m\u001B[0m\n",
      "\u001B[1;31mKeyError\u001B[0m: 'survived'"
     ]
    }
   ],
   "source": [
    "df_train[\"sex\"].rename({\"female\":0, \"male\":1}, inplace=True)\n",
    "\n",
    "pd.get_dummies(df_train[\"embarked\"], prefix=\"embarked\").head(5)\n",
    "df_train = pd.concat([df_train, pd.get_dummies(df_train[\"embarked\"], prefix=\"embarked\")], axis=1)\n",
    "df_train = df_train.drop([\"embarked\"], axis=1)\n",
    "\n",
    "x_train = df_train.iloc[:, 2:].values\n",
    "y_train = df_train[\"survived\"]\n",
    "\n",
    "df_test[\"sex\"] = df_test[\"sex\"].map({\"female\": 0, \"male\":1})\n",
    "df_test= pd.concat([df_test, pd.get_dummies(df_test[\"embarked\"], prefix=\"embarked\")], axis=1)\n",
    "df_test= df_test.drop([\"embarked\"], axis=1)\n",
    "\n",
    "x_test = df_test.iloc[:, 2:]\n",
    "y_test = df_test[\"survived\"]"
   ]
  },
  {
   "cell_type": "code",
   "execution_count": null,
   "id": "6bca2b39",
   "metadata": {},
   "outputs": [],
   "source": [
    "from sklearn.ensemble import RandomForestClassifier\n",
    "from sklearn.model_selection import GridSearchCV\n",
    "\n",
    "parameter_grid = {\n",
    "    \"max_features\": [0.5, 1.],\n",
    "    \"max_depth\": [5., None],\n",
    "}\n",
    "\n",
    "grid_search = GridSearchCV(RandomForestClassifier(n_estimators = 100), parameter_grid, cv=5, verbose=2)"
   ]
  },
  {
   "cell_type": "code",
   "execution_count": null,
   "id": "efe8ff58",
   "metadata": {},
   "outputs": [],
   "source": [
    "grid_search.fit(x_train, y_train)"
   ]
  },
  {
   "cell_type": "code",
   "execution_count": null,
   "id": "569c2e74",
   "metadata": {},
   "outputs": [],
   "source": [
    "grid_search.cv_results_[\"mean_test_score\"]"
   ]
  },
  {
   "cell_type": "code",
   "execution_count": null,
   "id": "dcd12000",
   "metadata": {},
   "outputs": [],
   "source": [
    "grid_search.best_params_"
   ]
  },
  {
   "cell_type": "code",
   "execution_count": null,
   "id": "c2e61659",
   "metadata": {},
   "outputs": [],
   "source": [
    "model = RandomForestClassifier(n_estimators = 50, max_features=1.0, max_depth=5.0, random_state=0)\n",
    "model = model.fit(x_train, y_train)"
   ]
  },
  {
   "cell_type": "code",
   "execution_count": null,
   "id": "1270a947",
   "metadata": {},
   "outputs": [],
   "source": [
    "y_prediction = model.predict(x_test)"
   ]
  },
  {
   "cell_type": "code",
   "execution_count": null,
   "id": "da8a98ee",
   "metadata": {},
   "outputs": [],
   "source": [
    "np.sum(y_prediction == y_test)"
   ]
  },
  {
   "cell_type": "code",
   "execution_count": null,
   "id": "a525343d",
   "metadata": {},
   "outputs": [],
   "source": [
    "np.sum(y_prediction == y_test) / float(len(y_test))"
   ]
  },
  {
   "cell_type": "code",
   "execution_count": null,
   "id": "a5c3a60e",
   "metadata": {},
   "outputs": [],
   "source": [
    "np.sum(y_test) / float(len(y_test))"
   ]
  }
 ],
 "metadata": {
  "kernelspec": {
   "display_name": "Python 3",
   "language": "python",
   "name": "python3"
  },
  "language_info": {
   "codemirror_mode": {
    "name": "ipython",
    "version": 3
   },
   "file_extension": ".py",
   "mimetype": "text/x-python",
   "name": "python",
   "nbconvert_exporter": "python",
   "pygments_lexer": "ipython3",
   "version": "3.8.8"
  }
 },
 "nbformat": 4,
 "nbformat_minor": 5
}