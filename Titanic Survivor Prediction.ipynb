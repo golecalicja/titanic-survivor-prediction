{
 "cells": [
  {
   "cell_type": "code",
   "execution_count": 356,
   "id": "b559cf81",
   "metadata": {},
   "outputs": [],
   "source": [
    "import pandas as pd\n",
    "import numpy as np\n",
    "\n",
    "df = pd.read_csv('data.csv')\n",
    "\n",
    "df_train = df.iloc[:712, :]\n",
    "df_test = df.iloc[712:, :]"
   ]
  },
  {
   "cell_type": "code",
   "execution_count": 357,
   "id": "8c1c7675",
   "metadata": {},
   "outputs": [],
   "source": [
    "df_train = df_train.drop(['Name', 'Ticket', 'Cabin'], axis=1)\n",
    "\n",
    "age_mean = df_train['Age'].mean()\n",
    "df_train['Age'] = df_train['Age'].fillna(age_mean)\n",
    "\n",
    "from collections import Counter\n",
    "\n",
    "keys = [k for k, v in Counter(df_train['Embarked']).most_common()]\n",
    "df_train['Embarked'] = df_train['Embarked'].fillna(keys[0])"
   ]
  },
  {
   "cell_type": "code",
   "execution_count": 358,
   "id": "599326a7",
   "metadata": {},
   "outputs": [],
   "source": [
    "df_train['Sex'] = df_train['Sex'].map({'female':0, 'male':1})\n",
    "\n",
    "pd.get_dummies(df_train['Embarked'], prefix='Embarked').head(5)\n",
    "df_train = pd.concat([df_train, pd.get_dummies(df_train['Embarked'], prefix='Embarked')], axis=1)\n",
    "df_train = df_train.drop(['Embarked'], axis=1)\n",
    "\n",
    "x_train = df_train.iloc[:, 2:].values\n",
    "y_train = df_train['Survived']"
   ]
  },
  {
   "cell_type": "code",
   "execution_count": 359,
   "id": "4035a62f",
   "metadata": {},
   "outputs": [],
   "source": [
    "from sklearn.ensemble import RandomForestClassifier\n",
    "from sklearn.model_selection import GridSearchCV\n",
    "\n",
    "parameter_grid = {\n",
    "    'max_features': [0.5, 1.],\n",
    "    'max_depth': [5., None]\n",
    "}\n",
    "\n",
    "grid_search = GridSearchCV(RandomForestClassifier(n_estimators = 100), parameter_grid, cv=5, verbose=3)"
   ]
  },
  {
   "cell_type": "code",
   "execution_count": 360,
   "id": "24efd066",
   "metadata": {},
   "outputs": [
    {
     "name": "stdout",
     "output_type": "stream",
     "text": [
      "Fitting 5 folds for each of 4 candidates, totalling 20 fits\n",
      "[CV 1/5] END ................max_depth=5.0, max_features=0.5; total time=   0.0s\n",
      "[CV 2/5] END ................max_depth=5.0, max_features=0.5; total time=   0.0s\n",
      "[CV 3/5] END ................max_depth=5.0, max_features=0.5; total time=   0.0s\n",
      "[CV 4/5] END ................max_depth=5.0, max_features=0.5; total time=   0.0s\n",
      "[CV 5/5] END ................max_depth=5.0, max_features=0.5; total time=   0.0s\n",
      "[CV 1/5] END ................max_depth=5.0, max_features=1.0; total time=   0.0s\n",
      "[CV 2/5] END ................max_depth=5.0, max_features=1.0; total time=   0.0s\n",
      "[CV 3/5] END ................max_depth=5.0, max_features=1.0; total time=   0.0s\n",
      "[CV 4/5] END ................max_depth=5.0, max_features=1.0; total time=   0.0s\n",
      "[CV 5/5] END ................max_depth=5.0, max_features=1.0; total time=   0.0s\n",
      "[CV 1/5] END ...............max_depth=None, max_features=0.5; total time=   0.0s\n",
      "[CV 2/5] END ...............max_depth=None, max_features=0.5; total time=   0.0s\n",
      "[CV 3/5] END ...............max_depth=None, max_features=0.5; total time=   0.0s\n",
      "[CV 4/5] END ...............max_depth=None, max_features=0.5; total time=   0.0s\n",
      "[CV 5/5] END ...............max_depth=None, max_features=0.5; total time=   0.0s\n",
      "[CV 1/5] END ...............max_depth=None, max_features=1.0; total time=   0.1s\n",
      "[CV 2/5] END ...............max_depth=None, max_features=1.0; total time=   0.0s\n",
      "[CV 3/5] END ...............max_depth=None, max_features=1.0; total time=   0.1s\n",
      "[CV 4/5] END ...............max_depth=None, max_features=1.0; total time=   0.0s\n",
      "[CV 5/5] END ...............max_depth=None, max_features=1.0; total time=   0.1s\n"
     ]
    },
    {
     "data": {
      "text/plain": [
       "GridSearchCV(cv=5, estimator=RandomForestClassifier(),\n",
       "             param_grid={'max_depth': [5.0, None], 'max_features': [0.5, 1.0]},\n",
       "             verbose=3)"
      ]
     },
     "execution_count": 360,
     "metadata": {},
     "output_type": "execute_result"
    }
   ],
   "source": [
    "grid_search.fit(x_train, y_train)"
   ]
  },
  {
   "cell_type": "code",
   "execution_count": 361,
   "id": "94a9a8d5",
   "metadata": {},
   "outputs": [
    {
     "data": {
      "text/plain": [
       "array([0.81748252, 0.82447552, 0.8020585 , 0.80899242])"
      ]
     },
     "execution_count": 361,
     "metadata": {},
     "output_type": "execute_result"
    }
   ],
   "source": [
    "grid_search.cv_results_['mean_test_score']"
   ]
  },
  {
   "cell_type": "code",
   "execution_count": 362,
   "id": "b9efda24",
   "metadata": {},
   "outputs": [
    {
     "data": {
      "text/plain": [
       "{'max_depth': 5.0, 'max_features': 1.0}"
      ]
     },
     "execution_count": 362,
     "metadata": {},
     "output_type": "execute_result"
    }
   ],
   "source": [
    "grid_search.best_params_"
   ]
  },
  {
   "cell_type": "code",
   "execution_count": 363,
   "id": "b4778d7f",
   "metadata": {},
   "outputs": [],
   "source": [
    "model = RandomForestClassifier(n_estimators = 100, max_features=0.5, max_depth=5.0, random_state=0)\n",
    "model = model.fit(x_train, y_train)"
   ]
  },
  {
   "cell_type": "code",
   "execution_count": 364,
   "id": "5aa774bf",
   "metadata": {},
   "outputs": [],
   "source": [
    "df_test = df_test.drop(['Name', 'Ticket', 'Cabin'], axis=1)\n",
    "\n",
    "df_test['Age'] = df_test['Age'].fillna(age_mean)\n",
    "df_test['Embarked'] = df_test['Embarked'].fillna(keys[0])\n",
    "\n",
    "df_test['Sex'] = df_test['Sex'].map({'female': 0, 'male':1})\n",
    "df_test= pd.concat([df_test, pd.get_dummies(df_test['Embarked'], prefix='Embarked')], axis=1)\n",
    "df_test= df_test.drop(['Embarked'], axis=1)\n",
    "\n",
    "x_test = df_test.iloc[:, 2:]\n",
    "y_test = df_test['Survived']"
   ]
  },
  {
   "cell_type": "code",
   "execution_count": 365,
   "id": "1c68fc6f",
   "metadata": {},
   "outputs": [],
   "source": [
    "y_prediction = model.predict(x_test)"
   ]
  },
  {
   "cell_type": "code",
   "execution_count": 366,
   "id": "920e058b",
   "metadata": {},
   "outputs": [
    {
     "data": {
      "text/plain": [
       "155"
      ]
     },
     "execution_count": 366,
     "metadata": {},
     "output_type": "execute_result"
    }
   ],
   "source": [
    "np.sum(y_prediction == y_test)"
   ]
  },
  {
   "cell_type": "code",
   "execution_count": 367,
   "id": "549c23f5",
   "metadata": {},
   "outputs": [
    {
     "data": {
      "text/plain": [
       "0.8659217877094972"
      ]
     },
     "execution_count": 367,
     "metadata": {},
     "output_type": "execute_result"
    }
   ],
   "source": [
    "np.sum(y_prediction == y_test) / float(len(y_test))"
   ]
  },
  {
   "cell_type": "code",
   "execution_count": 368,
   "id": "e3ed5977",
   "metadata": {},
   "outputs": [
    {
     "data": {
      "text/plain": [
       "0.3575418994413408"
      ]
     },
     "execution_count": 368,
     "metadata": {},
     "output_type": "execute_result"
    }
   ],
   "source": [
    "np.sum(y_test) / float(len(y_test))"
   ]
  }
 ],
 "metadata": {
  "kernelspec": {
   "display_name": "Python 3",
   "language": "python",
   "name": "python3"
  },
  "language_info": {
   "codemirror_mode": {
    "name": "ipython",
    "version": 3
   },
   "file_extension": ".py",
   "mimetype": "text/x-python",
   "name": "python",
   "nbconvert_exporter": "python",
   "pygments_lexer": "ipython3",
   "version": "3.8.8"
  }
 },
 "nbformat": 4,
 "nbformat_minor": 5
}
